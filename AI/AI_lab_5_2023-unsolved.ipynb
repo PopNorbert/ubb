{
 "cells": [
  {
   "cell_type": "markdown",
   "id": "b8210b19",
   "metadata": {},
   "source": [
    "## A.I. Assignment 5\n",
    "\n",
    "## Learning Goals\n",
    "\n",
    "By the end of this lab, you should be able to:\n",
    "* Get more familiar with tensors in pytorch \n",
    "* Create a simple multilayer perceptron model with pytorch\n",
    "* Visualise the parameters\n",
    "\n",
    "\n",
    "### Task\n",
    "\n",
    "Build a fully connected feed forward network that adds two bits. Determine the a propper achitecture for this network (what database you use for this problem? how many layers? how many neurons on each layer? what is the activation function? what is the loss function? etc)\n",
    "\n",
    "Create at least 3 such networks and compare their performance (how accurate they are?, how farst they are trained to get at 1 accuracy?)\n",
    "\n",
    "Display for the best one the weights for each layer.\n"
   ]
  },
  {
   "cell_type": "code",
   "execution_count": 141,
   "id": "e3614e5f",
   "metadata": {},
   "outputs": [],
   "source": [
    "import torch\n",
    "import torch.nn as nn\n",
    "from collections import OrderedDict\n",
    "import numpy as np\n",
    "import torch.optim as optim\n"
   ]
  },
  {
   "cell_type": "code",
   "execution_count": 142,
   "id": "5ee7e7d7",
   "metadata": {},
   "outputs": [],
   "source": [
    "\n",
    "\n",
    "model1 = nn.Sequential(OrderedDict([\n",
    "    ('hidden', nn.Linear(2, 4)),\n",
    "    ('activation1', nn.ReLU()),\n",
    "    ('output', nn.Linear(4, 2)),\n",
    "    ('activation2', nn.Sigmoid())\n",
    "]))\n",
    "model2 = nn.Sequential(OrderedDict([\n",
    "    ('hidden', nn.Linear(2, 3)),\n",
    "    ('activation1', nn.Tanh()),\n",
    "    ('output', nn.Linear(3, 2)),\n",
    "    ('activation2', nn.Sigmoid())\n",
    "]))\n",
    "model3 = nn.Sequential(OrderedDict([\n",
    "    ('hidden', nn.Linear(2, 5)),\n",
    "    ('activation1', nn.LeakyReLU()),  \n",
    "    ('hidden2', nn.Linear(5, 3)),     \n",
    "    ('activation2', nn.Tanh()),\n",
    "    ('output', nn.Linear(3, 2)),      \n",
    "    ('activation3', nn.Sigmoid()) \n",
    "]))"
   ]
  },
  {
   "cell_type": "code",
   "execution_count": 143,
   "id": "665ae958",
   "metadata": {},
   "outputs": [
    {
     "name": "stdout",
     "output_type": "stream",
     "text": [
      "Sequential(\n",
      "  (hidden): Linear(in_features=2, out_features=4, bias=True)\n",
      "  (activation1): ReLU()\n",
      "  (output): Linear(in_features=4, out_features=2, bias=True)\n",
      "  (activation2): Sigmoid()\n",
      ")\n"
     ]
    }
   ],
   "source": [
    "print(model1)"
   ]
  },
  {
   "cell_type": "code",
   "execution_count": 144,
   "id": "e26f0d3e",
   "metadata": {},
   "outputs": [
    {
     "name": "stdout",
     "output_type": "stream",
     "text": [
      "tensor([[0., 0.],\n",
      "        [0., 1.],\n",
      "        [1., 0.],\n",
      "        [1., 1.]])\n"
     ]
    }
   ],
   "source": [
    "data_in = torch.tensor([[0, 0], [0, 1], [1, 0], [1, 1]], dtype=torch.float32)\n",
    "print(data_in)"
   ]
  },
  {
   "cell_type": "code",
   "execution_count": 145,
   "id": "4fb16bbc",
   "metadata": {},
   "outputs": [
    {
     "name": "stdout",
     "output_type": "stream",
     "text": [
      "tensor([[0., 0.],\n",
      "        [0., 1.],\n",
      "        [0., 1.],\n",
      "        [1., 0.]])\n"
     ]
    }
   ],
   "source": [
    "data_target = torch.tensor([[0, 0], [0, 1], [0, 1], [1, 0]], dtype=torch.float32)\n",
    "print(data_target)"
   ]
  },
  {
   "cell_type": "code",
   "execution_count": 146,
   "id": "69d920ed",
   "metadata": {},
   "outputs": [],
   "source": [
    "criterion = nn.MSELoss()\n",
    "\n",
    "optimizer1 = optim.SGD(model1.parameters(), lr=0.1)\n",
    "optimizer2 = optim.SGD(model2.parameters(), lr=0.1)\n",
    "optimizer3 = optim.SGD(model3.parameters(), lr=0.1)"
   ]
  },
  {
   "cell_type": "code",
   "execution_count": 140,
   "id": "cde91f6f",
   "metadata": {},
   "outputs": [
    {
     "name": "stdout",
     "output_type": "stream",
     "text": [
      "model 1 0.6777141094207764\n",
      "model 2 1.8919599056243896\n",
      "model 3 6.707930326461792\n"
     ]
    }
   ],
   "source": [
    "import time\n",
    "losses1 = []\n",
    "losses2 = []\n",
    "losses3 = []\n",
    "x = time.time()\n",
    "a1 = True\n",
    "a2 = True\n",
    "a3 = True\n",
    "for epoch in range(10000):\n",
    "    \n",
    "    optimizer1.zero_grad()\n",
    "    optimizer2.zero_grad()\n",
    "    optimizer3.zero_grad()\n",
    "    output1 = model1(data_in)\n",
    "    output2 = model2(data_in)\n",
    "    output3 = model3(data_in)\n",
    "    loss1 = criterion(output1, data_target)  \n",
    "    loss1.backward()\n",
    "    loss2 = criterion(output2, data_target)  \n",
    "    loss2.backward() \n",
    "    loss3 = criterion(output3, data_target)  \n",
    "    loss3.backward() \n",
    "    optimizer1.step() \n",
    "    optimizer2.step() \n",
    "    optimizer3.step() \n",
    "    losses1.append(loss1.item())\n",
    "    losses2.append(loss2.item())\n",
    "    losses3.append(loss3.item())\n",
    "    accuracy1 = ((output1.round() == data_target).sum(dim=1) == 2).all().item()\n",
    "    if accuracy1 and a1:\n",
    "        end_time = time.time()\n",
    "        training_time_to_accuracy = end_time - x\n",
    "        print(\"model 1\", training_time_to_accuracy)\n",
    "        a1 = False\n",
    "    accuracy2 = ((output2.round() == data_target).sum(dim=1) == 2).all().item()\n",
    "    if accuracy2 and a2:\n",
    "        end_time = time.time()\n",
    "        training_time_to_accuracy = end_time - x\n",
    "        print(\"model 2\", training_time_to_accuracy)\n",
    "        a2 = False\n",
    "    accuracy3 = ((output3.round() == data_target).sum(dim=1) == 2).all().item()\n",
    "    if accuracy3 and a3:\n",
    "        a3 = False\n",
    "        end_time = time.time()\n",
    "        training_time_to_accuracy = end_time - x\n",
    "        print(\"model 3\", training_time_to_accuracy)\n"
   ]
  },
  {
   "cell_type": "code",
   "execution_count": 147,
   "id": "dff3ec1a",
   "metadata": {},
   "outputs": [
    {
     "data": {
      "image/png": "[encoded data removed]",
      "text/plain": [
       "<Figure size 1000x600 with 1 Axes>"
      ]
     },
     "metadata": {},
     "output_type": "display_data"
    }
   ],
   "source": [
    "import matplotlib.pyplot as plt\n",
    "plt.figure(figsize=(10, 6))\n",
    "plt.plot(losses1, label='Model 1')\n",
    "plt.plot(losses2, label='Model 2')\n",
    "plt.plot(losses3, label='Model 3')\n",
    "plt.xlabel('Epoch')\n",
    "plt.ylabel('Loss')\n",
    "plt.title('Training Loss Curves')\n",
    "plt.legend()\n",
    "plt.grid(True)\n",
    "plt.show()"
   ]
  },
  {
   "cell_type": "code",
   "execution_count": 148,
   "id": "c1a7518b",
   "metadata": {},
   "outputs": [
    {
     "name": "stdout",
     "output_type": "stream",
     "text": [
      "Model 1 weights:\n",
      "Layer: hidden.weight\n",
      "Weights: tensor([[ 0.4582,  0.6648],\n",
      "        [ 0.4987,  0.6541],\n",
      "        [-0.5996, -0.5686],\n",
      "        [-0.2854, -0.0635]])\n",
      "\n",
      "Layer: hidden.bias\n",
      "Weights: tensor([-0.3910, -0.2193,  0.0588, -0.5124])\n",
      "\n",
      "Layer: output.weight\n",
      "Weights: tensor([[ 0.3210, -0.1616,  0.3749, -0.2644],\n",
      "        [ 0.4494,  0.4367, -0.0390, -0.3471]])\n",
      "\n",
      "Layer: output.bias\n",
      "Weights: tensor([ 0.4676, -0.3517])\n",
      "\n",
      "\n",
      "Model 2 weights:\n",
      "Layer: hidden.weight\n",
      "Weights: tensor([[-0.3951,  0.4222],\n",
      "        [-0.5127,  0.2835],\n",
      "        [ 0.0370, -0.3909]])\n",
      "\n",
      "Layer: hidden.bias\n",
      "Weights: tensor([ 0.1158,  0.1446, -0.6392])\n",
      "\n",
      "Layer: output.weight\n",
      "Weights: tensor([[-0.1533, -0.4531, -0.3937],\n",
      "        [-0.0262, -0.4472, -0.4649]])\n",
      "\n",
      "Layer: output.bias\n",
      "Weights: tensor([0.1397, 0.0546])\n",
      "\n",
      "\n",
      "Model 3 weights:\n",
      "Layer: hidden.weight\n",
      "Weights: tensor([[ 0.0505,  0.0738],\n",
      "        [ 0.2559,  0.3453],\n",
      "        [ 0.0019,  0.6964],\n",
      "        [-0.3208, -0.2224],\n",
      "        [ 0.2926,  0.3382]])\n",
      "\n",
      "Layer: hidden.bias\n",
      "Weights: tensor([-0.6358, -0.6659, -0.3756, -0.3213,  0.5012])\n",
      "\n",
      "Layer: hidden2.weight\n",
      "Weights: tensor([[-0.2384,  0.0578,  0.2263, -0.3692,  0.0940],\n",
      "        [-0.3018,  0.4435,  0.3420,  0.1984,  0.3647],\n",
      "        [ 0.3088, -0.4251,  0.1524,  0.1707, -0.2288]])\n",
      "\n",
      "Layer: hidden2.bias\n",
      "Weights: tensor([-0.0884,  0.1333,  0.3448])\n",
      "\n",
      "Layer: output.weight\n",
      "Weights: tensor([[-0.3900,  0.4269, -0.4546],\n",
      "        [ 0.4498, -0.3058, -0.1477]])\n",
      "\n",
      "Layer: output.bias\n",
      "Weights: tensor([-0.1263,  0.2869])\n",
      "\n"
     ]
    }
   ],
   "source": [
    "def print_model_weights(model):\n",
    "    for name, param in model.named_parameters():\n",
    "        print(\"Layer:\", name)\n",
    "        print(\"Weights:\", param.data)\n",
    "        print()\n",
    "\n",
    "print(\"Model 1 weights:\")\n",
    "print_model_weights(model1)\n",
    "print()\n",
    "\n",
    "print(\"Model 2 weights:\")\n",
    "print_model_weights(model2)\n",
    "print()\n",
    "\n",
    "print(\"Model 3 weights:\")\n",
    "print_model_weights(model3)"
   ]
  },
  {
   "cell_type": "code",
   "execution_count": null,
   "id": "4cdf09ba",
   "metadata": {},
   "outputs": [],
   "source": []
  },
  {
   "cell_type": "code",
   "execution_count": null,
   "id": "d0bea66c",
   "metadata": {},
   "outputs": [],
   "source": []
  },
  {
   "cell_type": "code",
   "execution_count": null,
   "id": "e29c65a2",
   "metadata": {},
   "outputs": [],
   "source": []
  }
 ],
 "metadata": {
  "kernelspec": {
   "display_name": "Python 3 (ipykernel)",
   "language": "python",
   "name": "python3"
  },
  "language_info": {
   "codemirror_mode": {
    "name": "ipython",
    "version": 3
   },
   "file_extension": ".py",
   "mimetype": "text/x-python",
   "name": "python",
   "nbconvert_exporter": "python",
   "pygments_lexer": "ipython3",
   "version": "3.12.2"
  }
 },
 "nbformat": 4,
 "nbformat_minor": 5
}
